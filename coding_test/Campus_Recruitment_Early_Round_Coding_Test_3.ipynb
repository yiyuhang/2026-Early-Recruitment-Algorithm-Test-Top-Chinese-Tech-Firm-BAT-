{
 "cells": [
  {
   "cell_type": "code",
   "execution_count": null,
   "id": "a8708925",
   "metadata": {},
   "outputs": [
    {
     "name": "stdout",
     "output_type": "stream",
     "text": [
      "5\n"
     ]
    }
   ],
   "source": [
    "# 给定一个无序数组，选出一个子集， 这个子集最大值和最小值最多差1， 求这个子集的最大长度。用O(n)的时间复杂度。\n",
    "\n",
    "def max_subset_length(nums):\n",
    "    from collections import Counter\n",
    "    count = Counter(nums)\n",
    "    max_len = 0\n",
    "    for num in count:\n",
    "        # 只考虑num和num+1的组合\n",
    "        curr_len = count[num] + count.get(num+1, 0)\n",
    "        max_len = max(max_len, curr_len)\n",
    "    return max_len\n",
    "\n",
    "\n",
    "# 示例\n",
    "nums = [1,2,2,3,1,2]\n",
    "print(max_subset_length(nums))  # 输出 5，因为[1,2,2,1,2]"
   ]
  }
 ],
 "metadata": {
  "kernelspec": {
   "display_name": "base",
   "language": "python",
   "name": "python3"
  },
  "language_info": {
   "codemirror_mode": {
    "name": "ipython",
    "version": 3
   },
   "file_extension": ".py",
   "mimetype": "text/x-python",
   "name": "python",
   "nbconvert_exporter": "python",
   "pygments_lexer": "ipython3",
   "version": "3.12.4"
  }
 },
 "nbformat": 4,
 "nbformat_minor": 5
}
