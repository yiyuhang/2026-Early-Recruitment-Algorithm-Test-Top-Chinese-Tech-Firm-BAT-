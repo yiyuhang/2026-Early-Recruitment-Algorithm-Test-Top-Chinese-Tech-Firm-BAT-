{
 "cells": [
  {
   "cell_type": "code",
   "execution_count": 1,
   "id": "380f3de8",
   "metadata": {},
   "outputs": [
    {
     "name": "stdout",
     "output_type": "stream",
     "text": [
      "7\n",
      "[0, 0, 1, 1, 2, 3, 3]\n"
     ]
    }
   ],
   "source": [
    "# 给你一个有序数组nums，请你原地删除重复出现的元素，是的出现次数超过两次的元素只出现两次， 返回删除后数组的新长度。\n",
    "# 不要使用额外的数组空间，你必须在原地修改输入数组并在使用 O(1) 额外空间的条件下完成。\n",
    "\n",
    "def remove_duplicates(nums):\n",
    "    n = len(nums)\n",
    "    if n <= 2:\n",
    "        return n\n",
    "    slow = 2  # 前两个元素直接保留\n",
    "    for fast in range(2, n):\n",
    "        if nums[fast] != nums[slow-2]:\n",
    "            nums[slow] = nums[fast]\n",
    "            slow += 1\n",
    "    return slow\n",
    "\n",
    "\n",
    "# 示例\n",
    "nums = [0,0,1,1,1,1,2,3,3]\n",
    "new_len = remove_duplicates(nums)\n",
    "print(new_len)  # 输出 7\n",
    "print(nums[:new_len])  # 输出 [0,0,1,1,2,3,3]"
   ]
  }
 ],
 "metadata": {
  "kernelspec": {
   "display_name": "base",
   "language": "python",
   "name": "python3"
  },
  "language_info": {
   "codemirror_mode": {
    "name": "ipython",
    "version": 3
   },
   "file_extension": ".py",
   "mimetype": "text/x-python",
   "name": "python",
   "nbconvert_exporter": "python",
   "pygments_lexer": "ipython3",
   "version": "3.12.4"
  }
 },
 "nbformat": 4,
 "nbformat_minor": 5
}
